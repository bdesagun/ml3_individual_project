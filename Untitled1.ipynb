{
 "cells": [
  {
   "cell_type": "code",
   "execution_count": 1,
   "id": "049e7818",
   "metadata": {
    "ExecuteTime": {
     "end_time": "2022-02-24T14:42:53.714146Z",
     "start_time": "2022-02-24T14:42:45.365815Z"
    }
   },
   "outputs": [],
   "source": [
    "from tensorflow import keras\n",
    "import cv2\n",
    "import matplotlib.pyplot as plt\n",
    "\n",
    "import PIL\n",
    "from PIL import Image\n",
    "from itertools import groupby\n",
    "\n",
    "from keras.preprocessing.image import img_to_array\n",
    "import PIL.ImageOps\n",
    "\n",
    "Name = ['1',\n",
    " 'add',\n",
    " 'dec',\n",
    " 'eq',\n",
    " '3',\n",
    " '2',\n",
    " '6',\n",
    " 'div',\n",
    " '9',\n",
    " 'mul',\n",
    " '5',\n",
    " '0',\n",
    " '7',\n",
    " 'sub',\n",
    " '8',\n",
    " '4']\n"
   ]
  },
  {
   "cell_type": "code",
   "execution_count": 2,
   "id": "5ffa19db",
   "metadata": {
    "ExecuteTime": {
     "end_time": "2022-02-24T14:43:03.466263Z",
     "start_time": "2022-02-24T14:42:55.105201Z"
    }
   },
   "outputs": [
    {
     "name": "stderr",
     "output_type": "stream",
     "text": [
      "2022-02-24 22:42:55.899339: I tensorflow/core/platform/cpu_feature_guard.cc:151] This TensorFlow binary is optimized with oneAPI Deep Neural Network Library (oneDNN) to use the following CPU instructions in performance-critical operations:  AVX2 FMA\n",
      "To enable them in other operations, rebuild TensorFlow with the appropriate compiler flags.\n"
     ]
    }
   ],
   "source": [
    "model = keras.models.load_model(\"attempt2.h5\")"
   ]
  },
  {
   "cell_type": "code",
   "execution_count": null,
   "id": "15925eed",
   "metadata": {},
   "outputs": [],
   "source": []
  }
 ],
 "metadata": {
  "kernelspec": {
   "display_name": "Python 3 (ipykernel)",
   "language": "python",
   "name": "python3"
  },
  "language_info": {
   "codemirror_mode": {
    "name": "ipython",
    "version": 3
   },
   "file_extension": ".py",
   "mimetype": "text/x-python",
   "name": "python",
   "nbconvert_exporter": "python",
   "pygments_lexer": "ipython3",
   "version": "3.9.7"
  },
  "toc": {
   "base_numbering": 1,
   "nav_menu": {},
   "number_sections": true,
   "sideBar": true,
   "skip_h1_title": false,
   "title_cell": "Table of Contents",
   "title_sidebar": "Contents",
   "toc_cell": false,
   "toc_position": {},
   "toc_section_display": true,
   "toc_window_display": false
  },
  "varInspector": {
   "cols": {
    "lenName": 16,
    "lenType": 16,
    "lenVar": 40
   },
   "kernels_config": {
    "python": {
     "delete_cmd_postfix": "",
     "delete_cmd_prefix": "del ",
     "library": "var_list.py",
     "varRefreshCmd": "print(var_dic_list())"
    },
    "r": {
     "delete_cmd_postfix": ") ",
     "delete_cmd_prefix": "rm(",
     "library": "var_list.r",
     "varRefreshCmd": "cat(var_dic_list()) "
    }
   },
   "types_to_exclude": [
    "module",
    "function",
    "builtin_function_or_method",
    "instance",
    "_Feature"
   ],
   "window_display": false
  }
 },
 "nbformat": 4,
 "nbformat_minor": 5
}
